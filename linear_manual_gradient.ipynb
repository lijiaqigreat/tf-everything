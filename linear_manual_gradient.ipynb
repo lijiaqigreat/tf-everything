{
 "cells": [
  {
   "cell_type": "code",
   "execution_count": 2,
   "metadata": {
    "collapsed": false
   },
   "outputs": [],
   "source": [
    "import tensorflow as tf\n",
    "\n",
    "sess = tf.InteractiveSession()\n",
    "data = tf.truncated_normal([1,10], stddev=0.1).eval()\n",
    "x = tf.placeholder(tf.float32, shape=[None, 10])\n",
    "y = tf.truncated_normal([10,1], stddev=0.1)\n",
    "y = tf.Variable(y)\n",
    "product = tf.matmul(x,y)\n",
    "product_sum = tf.reduce_sum(product)\n",
    "optimizer = tf.train.AdamOptimizer()\n",
    "# gradient is array of (gradient, variable) tuple\n",
    "gradient = optimizer.compute_gradients(product_sum)\n",
    "g=gradient[0][0]\n",
    "step = optimizer.apply_gradients(gradient)\n",
    "sess.run(tf.initialize_all_variables())"
   ]
  },
  {
   "cell_type": "code",
   "execution_count": 7,
   "metadata": {
    "collapsed": false
   },
   "outputs": [],
   "source": [
    "step.run(feed_dict={x: data})"
   ]
  },
  {
   "cell_type": "code",
   "execution_count": 8,
   "metadata": {
    "collapsed": false
   },
   "outputs": [],
   "source": [
    "array1.append(g.eval(feed_dict={x: data}))"
   ]
  },
  {
   "cell_type": "code",
   "execution_count": 9,
   "metadata": {
    "collapsed": false
   },
   "outputs": [],
   "source": [
    "array2.append(y.eval())"
   ]
  },
  {
   "cell_type": "code",
   "execution_count": 11,
   "metadata": {
    "collapsed": false
   },
   "outputs": [
    {
     "data": {
      "text/plain": [
       "[array([[-0.09263476],\n",
       "        [-0.11864003],\n",
       "        [ 0.0231386 ],\n",
       "        [-0.09723574],\n",
       "        [ 0.12989901],\n",
       "        [ 0.07964771],\n",
       "        [ 0.09650787],\n",
       "        [-0.08130625],\n",
       "        [-0.05530666],\n",
       "        [-0.02905956]], dtype=float32), array([[-0.09363474],\n",
       "        [-0.11964002],\n",
       "        [ 0.02413859],\n",
       "        [-0.09823573],\n",
       "        [ 0.12889901],\n",
       "        [ 0.08064771],\n",
       "        [ 0.09550792],\n",
       "        [-0.08030625],\n",
       "        [-0.05630665],\n",
       "        [-0.03005955]], dtype=float32), array([[-0.09463473],\n",
       "        [-0.12064002],\n",
       "        [ 0.02513858],\n",
       "        [-0.09923573],\n",
       "        [ 0.12789902],\n",
       "        [ 0.0816477 ],\n",
       "        [ 0.09450796],\n",
       "        [-0.07930626],\n",
       "        [-0.05730664],\n",
       "        [-0.03105954]], dtype=float32)]"
      ]
     },
     "execution_count": 11,
     "metadata": {},
     "output_type": "execute_result"
    }
   ],
   "source": [
    "array2"
   ]
  },
  {
   "cell_type": "code",
   "execution_count": null,
   "metadata": {
    "collapsed": true
   },
   "outputs": [],
   "source": []
  }
 ],
 "metadata": {
  "kernelspec": {
   "display_name": "Python [Root]",
   "language": "python",
   "name": "Python [Root]"
  },
  "language_info": {
   "codemirror_mode": {
    "name": "ipython",
    "version": 2
   },
   "file_extension": ".py",
   "mimetype": "text/x-python",
   "name": "python",
   "nbconvert_exporter": "python",
   "pygments_lexer": "ipython2",
   "version": "2.7.12"
  }
 },
 "nbformat": 4,
 "nbformat_minor": 0
}
